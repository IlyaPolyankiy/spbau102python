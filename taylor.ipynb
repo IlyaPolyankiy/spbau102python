{
 "cells": [
  {
   "cell_type": "markdown",
   "id": "8487f3b5-f481-4525-8e74-6bf403113cbc",
   "metadata": {
    "tags": []
   },
   "source": [
    "# Ряд тейлора для arcsin:\n",
    "\n",
    " arcsin x=$\\sum _{n=0}^{\\infty }{\\frac {(2n)!}{4^{n}(n!)^{2}(2n+1)}}x^{2n+1}$ для |x| < 1\n",
    "\n"
   ]
  },
  {
   "cell_type": "code",
   "execution_count": 4,
   "id": "9c2e8bed-9fb9-476e-bae8-0affa55d5cdd",
   "metadata": {
    "tags": []
   },
   "outputs": [
    {
     "name": "stdin",
     "output_type": "stream",
     "text": [
      "Введите значение от -1 до 1:  0.6\n"
     ]
    },
    {
     "name": "stdout",
     "output_type": "stream",
     "text": [
      "arcsin(0.6) = \n",
      " 0.6435011087932679 (мой) \n",
      " 0.6435011087932844 (встроенный)\n"
     ]
    }
   ],
   "source": [
    "import math\n",
    "\n",
    "iter = 25\n",
    "\n",
    "def my_arcsin(x):\n",
    "\n",
    "    \"\"\"\n",
    "    Вычисление арксинуса при помощи частичного суммирования\n",
    "    ряда Тейлора для окрестности 0\n",
    "    \"\"\"\n",
    "\n",
    "    if float(abs(x)) < 1:\n",
    "        multiplier = 1 \n",
    "        partial_sum = x  # значение при n = 0 \n",
    "        x_pow = x\n",
    "        for n in range(1, iter):  # считаем первые iter элементы ряда (кроме первого, равного x) и прибавляем их к частичной сумме\n",
    "            multiplier *=  (2*n-1) * (2*n) / (n**2 * 4)  # можно сократить до 1 - 1 / (2*n), однако я оставил полностью для понятности :) \n",
    "            x_pow *= x**2\n",
    "            partial_sum += multiplier * x_pow / (2*n + 1)\n",
    "        return partial_sum  #возвращаем сумму\n",
    "    else:\n",
    "        return \"функция arcsin(x) принимает только аргументы |x| < 1\"\n",
    "\n",
    "value = float(input(\"Введите значение от -1 до 1: \"))\n",
    "\n",
    "if (abs(value)) < 1:\n",
    "    print(\"arcsin({0}) = \\n\".format(value), my_arcsin(value), \"(мой)\", \"\\n\", math.asin(value), (\"(встроенный)\"))\n",
    "else:\n",
    "    print(\"Значение введено неверно\")"
   ]
  },
  {
   "cell_type": "markdown",
   "id": "143b691e-66c4-43f6-94b6-91b26cfdedb4",
   "metadata": {},
   "source": [
    "арксинус получился очень близок ко встроенному"
   ]
  },
  {
   "cell_type": "markdown",
   "id": "31bbb697-0816-483b-ae68-2a33f97b5c92",
   "metadata": {},
   "source": [
    "## Сравним графики:"
   ]
  },
  {
   "cell_type": "code",
   "execution_count": 5,
   "id": "e82b988d-6433-4e97-bb06-ba6b32c26296",
   "metadata": {},
   "outputs": [
    {
     "data": {
      "image/png": "[encoded data removed]",
      "text/plain": [
       "<Figure size 640x480 with 1 Axes>"
      ]
     },
     "metadata": {},
     "output_type": "display_data"
    }
   ],
   "source": [
    "import numpy\n",
    "import matplotlib.pyplot as mpp\n",
    "if __name__ == '__main__':\n",
    "    arguments = numpy.arange(-0.99, 1, 0.01)\n",
    "    mpp.plot(\n",
    "        arguments,\n",
    "        [my_arcsin(a) for a in arguments])\n",
    "    mpp.plot(\n",
    "        arguments,\n",
    "        [math.asin(a) for a in arguments])\n",
    "    mpp.show()"
   ]
  },
  {
   "cell_type": "code",
   "execution_count": null,
   "id": "3ee71866-66ef-49d8-a66a-0717f830b7f0",
   "metadata": {},
   "outputs": [],
   "source": []
  },
  {
   "cell_type": "code",
   "execution_count": null,
   "id": "8b7df1fd-5b13-4229-93cc-b7e110ffca52",
   "metadata": {},
   "outputs": [],
   "source": []
  }
 ],
 "metadata": {
  "kernelspec": {
   "display_name": "Python 3 (ipykernel)",
   "language": "python",
   "name": "python3"
  },
  "language_info": {
   "codemirror_mode": {
    "name": "ipython",
    "version": 3
   },
   "file_extension": ".py",
   "mimetype": "text/x-python",
   "name": "python",
   "nbconvert_exporter": "python",
   "pygments_lexer": "ipython3",
   "version": "3.10.7"
  }
 },
 "nbformat": 4,
 "nbformat_minor": 5
}
