{
 "cells": [
  {
   "cell_type": "markdown",
   "id": "05f90c51-123d-4308-a79e-d069acb422f3",
   "metadata": {},
   "source": [
    "# Аннотация типов  \n",
    "Проверим работу mypy на моей програме для вычисления арксинуса через ряд Тейлора"
   ]
  },
  {
   "cell_type": "code",
   "execution_count": 3,
   "id": "96a1d8cf-c8ae-4cdc-8249-ee08359d96b4",
   "metadata": {},
   "outputs": [],
   "source": [
    "%load_ext mypy_ipython"
   ]
  },
  {
   "cell_type": "code",
   "execution_count": 6,
   "id": "56fba771-05c7-4d84-98a2-dc6214058517",
   "metadata": {},
   "outputs": [
    {
     "name": "stdin",
     "output_type": "stream",
     "text": [
      "Введите значение от -1 до 1:  0.5\n"
     ]
    },
    {
     "name": "stdout",
     "output_type": "stream",
     "text": [
      "arcsin(0.5) = \n",
      " 0.523598775598299 (мой) \n",
      " 0.5235987755982989 (встроенный)\n",
      "\u001b[1m\u001b[92mSuccess: no issues found in 1 source file\u001b[0m\n",
      "Type checking successful\n"
     ]
    }
   ],
   "source": [
    "import math\n",
    "\n",
    "iter = 30\n",
    "\n",
    "def my_arcsin(x):\n",
    "\n",
    "    \"\"\"\n",
    "    Вычисление арксинуса при помощи частичного суммирования\n",
    "    ряда Тейлора для окрестности 0\n",
    "    \"\"\"\n",
    "\n",
    "    if float(abs(x)) <= 1:\n",
    "        multiplier = 1 \n",
    "        partial_sum = x  # значение при n = 0 \n",
    "        x_pow = x\n",
    "        for n in range(1, iter):  # считаем первые iter элементы ряда (кроме первого, равного x) и прибавляем их к частичной сумме\n",
    "            multiplier *=  (2*n-1) * (2*n) / (n**2 * 4)  # можно сократить до 1 - 1 / (2*n), однако я оставил полностью для понятности :) \n",
    "            x_pow *= x**2\n",
    "            partial_sum += multiplier * x_pow / (2*n + 1)\n",
    "        return partial_sum  #возвращаем сумму\n",
    " \n",
    "    return \"функция arcsin(x) принимает только аргументы |x| < 1\"\n",
    "\n",
    "value = float(input(\"Введите значение от -1 до 1: \"))\n",
    "\n",
    "if (abs(value)) <= 1:\n",
    "    print(\"arcsin({0}) = \\n\".format(value), my_arcsin(value), \"(мой)\", \"\\n\", math.asin(value), (\"(встроенный)\"))\n",
    "else:\n",
    "    print(my_arcsin(value))\n",
    "    \n",
    "%mypy"
   ]
  },
  {
   "cell_type": "markdown",
   "id": "8be5294f-d9f1-4983-94f5-bfbc9b5beeb3",
   "metadata": {},
   "source": [
    "### Добавим аннотацию типов:"
   ]
  },
  {
   "cell_type": "code",
   "execution_count": 8,
   "id": "0ef18eda-2872-43e1-a319-0c726d5451db",
   "metadata": {},
   "outputs": [
    {
     "name": "stdin",
     "output_type": "stream",
     "text": [
      "Введите значение от -1 до 1:  0.5\n"
     ]
    },
    {
     "name": "stdout",
     "output_type": "stream",
     "text": [
      "arcsin(0.5) = \n",
      " 0.523598775598299 (мой) \n",
      " 0.5235987755982989 (встроенный)\n",
      "\u001b[94mnote:\u001b[0m In function \u001b[0m\u001b[1m\"my_arcsin\"\u001b[0m:\u001b[0m\n",
      "                multiplier *=  (2*n-1) * (2*n) / (n**2\n",
      "\u001b[1m\u001b[91merror:\u001b[0m Incompatible types in assignment (expression has type \u001b[0m\u001b[1m\"float\"\u001b[0m, variable has type \u001b[0m\u001b[1m\"int\"\u001b[0m)  \u001b[0m\u001b[93m[assignment]\u001b[0m\n",
      "        return \"функция arcsin(x) принимает только арг\n",
      "\u001b[1m\u001b[91merror:\u001b[0m Incompatible return value type (got \u001b[0m\u001b[1m\"str\"\u001b[0m, expected \u001b[0m\u001b[1m\"float\"\u001b[0m)  \u001b[0m\u001b[93m[return-value]\u001b[0m\n",
      "\u001b[1m\u001b[91mFound 2 errors in 1 file (checked 1 source file)\u001b[0m\n"
     ]
    },
    {
     "name": "stderr",
     "output_type": "stream",
     "text": [
      "Type checking failed\n"
     ]
    }
   ],
   "source": [
    "import math\n",
    "\n",
    "iter = 30\n",
    "\n",
    "def my_arcsin(x: float) -> float:\n",
    "\n",
    "    \"\"\"\n",
    "    Вычисление арксинуса при помощи частичного суммирования\n",
    "    ряда Тейлора для окрестности 0\n",
    "    \"\"\"\n",
    "\n",
    "    if float(abs(x)) <= 1:\n",
    "        multiplier = 1 \n",
    "        partial_sum = x  # значение при n = 0 \n",
    "        x_pow = x\n",
    "        for n in range(1, iter):  # считаем первые iter элементы ряда (кроме первого, равного x) и прибавляем их к частичной сумме\n",
    "            multiplier *=  (2*n-1) * (2*n) / (n**2 * 4)  # можно сократить до 1 - 1 / (2*n), однако я оставил полностью для понятности :) \n",
    "            x_pow *= x**2\n",
    "            partial_sum += multiplier * x_pow / (2*n + 1)\n",
    "        return partial_sum  #возвращаем сумму\n",
    " \n",
    "    return \"функция arcsin(x) принимает только аргументы |x| < 1\"\n",
    "\n",
    "\"\"\"\n",
    "mypy ругается на то, что функция может получать на вход и выводить не только float, но и int, а также выводит строку если значение моего арксинуса неверное.\n",
    "\n",
    "annotation.py:17: error: Incompatible types in assignment (expression has type \"float\", variable has type \"int\")  [assignment]\n",
    "annotation.py:22: error: Incompatible return value type (got \"str\", expected \"float\")  [return-value]\n",
    "Found 2 errors in 1 file (checked 1 source file) \n",
    "\n",
    "(использовал mypy для программы .py)\n",
    "\"\"\"\n",
    "\n",
    "value = float(input(\"Введите значение от -1 до 1: \"))\n",
    "\n",
    "if (abs(value)) <= 1:\n",
    "    print(\"arcsin({0}) = \\n\".format(value), my_arcsin(value), \"(мой)\", \"\\n\", math.asin(value), (\"(встроенный)\"))\n",
    "else:\n",
    "    print(my_arcsin(value))\n",
    "    \n",
    "%mypy"
   ]
  },
  {
   "cell_type": "markdown",
   "id": "a48efd6b-7adc-404e-90a5-7778dc1b86ac",
   "metadata": {},
   "source": [
    "### Поменял вывод функции в случае на ввода неподходящего для арксинуса числа с str на int"
   ]
  },
  {
   "cell_type": "code",
   "execution_count": 10,
   "id": "1d1902df-2f46-4cb4-9f78-1f19064fca48",
   "metadata": {},
   "outputs": [
    {
     "name": "stdin",
     "output_type": "stream",
     "text": [
      "Введите значение от -1 до 1:  0.5\n"
     ]
    },
    {
     "name": "stdout",
     "output_type": "stream",
     "text": [
      "arcsin(0.5) = \n",
      " 0.523598775598299 (мой) \n",
      " 0.5235987755982989 (встроенный)\n",
      "\u001b[94mnote:\u001b[0m In function \u001b[0m\u001b[1m\"my_arcsin\"\u001b[0m:\u001b[0m\n",
      "                multiplier *=  (2*n-1) * (2*n) / (n**2\n",
      "\u001b[1m\u001b[91merror:\u001b[0m Incompatible types in assignment (expression has type \u001b[0m\u001b[1m\"float\"\u001b[0m, variable has type \u001b[0m\u001b[1m\"int\"\u001b[0m)  \u001b[0m\u001b[93m[assignment]\u001b[0m\n",
      "\u001b[1m\u001b[91mFound 1 error in 1 file (checked 1 source file)\u001b[0m\n"
     ]
    },
    {
     "name": "stderr",
     "output_type": "stream",
     "text": [
      "Type checking failed\n"
     ]
    }
   ],
   "source": [
    "import math\n",
    "\n",
    "iter = 30\n",
    "\n",
    "def my_arcsin(x: float) -> float:\n",
    "\n",
    "    \"\"\"\n",
    "    Вычисление арксинуса при помощи частичного суммирования\n",
    "    ряда Тейлора для окрестности 0\n",
    "    \"\"\"\n",
    "\n",
    "    if float(abs(x)) <= 1:\n",
    "        multiplier = 1 \n",
    "        partial_sum = x  # значение при n = 0 \n",
    "        x_pow = x\n",
    "        for n in range(1, iter):  # считаем первые iter элементы ряда (кроме первого, равного x) и прибавляем их к частичной сумме\n",
    "            multiplier *=  (2*n-1) * (2*n) / (n**2 * 4)  # можно сократить до 1 - 1 / (2*n), однако я оставил полностью для понятности :) \n",
    "            x_pow *= x**2\n",
    "            partial_sum += multiplier * x_pow / (2*n + 1)\n",
    "        return partial_sum  #возвращаем сумму\n",
    " \n",
    "    return 1000000\n",
    "\n",
    "value = float(input(\"Введите значение от -1 до 1: \"))\n",
    "\n",
    "if (abs(value)) <= 1:\n",
    "    print(\"arcsin({0}) = \\n\".format(value), my_arcsin(value), \"(мой)\", \"\\n\", math.asin(value), (\"(встроенный)\"))\n",
    "else:\n",
    "    print(my_arcsin(value))\n",
    "    \n",
    "%mypy"
   ]
  },
  {
   "cell_type": "code",
   "execution_count": null,
   "id": "e47e73ff-f842-45fa-ad39-d9a5df9beca5",
   "metadata": {},
   "outputs": [],
   "source": []
  }
 ],
 "metadata": {
  "kernelspec": {
   "display_name": "Python 3 (ipykernel)",
   "language": "python",
   "name": "python3"
  },
  "language_info": {
   "codemirror_mode": {
    "name": "ipython",
    "version": 3
   },
   "file_extension": ".py",
   "mimetype": "text/x-python",
   "name": "python",
   "nbconvert_exporter": "python",
   "pygments_lexer": "ipython3",
   "version": "3.11.1"
  }
 },
 "nbformat": 4,
 "nbformat_minor": 5
}
