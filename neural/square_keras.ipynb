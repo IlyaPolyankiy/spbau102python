{
 "cells": [
  {
   "cell_type": "markdown",
   "metadata": {},
   "source": [
    "# Попадает ли точка в квадрат?"
   ]
  },
  {
   "cell_type": "code",
   "execution_count": 1,
   "metadata": {
    "tags": []
   },
   "outputs": [],
   "source": [
    "import os\n",
    "import numpy as np\n",
    "from tensorflow.keras import models, layers"
   ]
  },
  {
   "cell_type": "markdown",
   "metadata": {},
   "source": [
    "`XY` — 1000000 случайных точек, `Z` — попадает точка в единичный круг (1) или нет (0)"
   ]
  },
  {
   "cell_type": "code",
   "execution_count": 2,
   "metadata": {
    "tags": []
   },
   "outputs": [],
   "source": [
    "np.random.seed(17)\n",
    "XY = np.random.random((1000000, 2)).astype(np.float32) * 4.0 - 2.0\n",
    "\n",
    "Z = np.array([\n",
    "    1 if x < 1 and x > -1 and y < 1 and y > -1 else 0\n",
    "    for [x, y] in XY\n",
    "], dtype=np.float32)"
   ]
  },
  {
   "cell_type": "code",
   "execution_count": 3,
   "metadata": {
    "tags": []
   },
   "outputs": [],
   "source": [
    "model = models.Sequential([\n",
    "    layers.InputLayer(input_shape=(2,)),\n",
    "    layers.Dense(8, activation='sigmoid', use_bias=True),\n",
    "    layers.Dense(1, activation='sigmoid', use_bias=False)\n",
    "])\n",
    "\n",
    "model.compile(\n",
    "    loss='mean_squared_error',\n",
    "    optimizer='adam',\n",
    "    metrics=['accuracy']\n",
    ")"
   ]
  },
  {
   "cell_type": "markdown",
   "metadata": {},
   "source": [
    "This is the main training loop. The output shows the evolution of the error between the model and desired. The error steadily decreases. "
   ]
  },
  {
   "cell_type": "code",
   "execution_count": 4,
   "metadata": {
    "tags": []
   },
   "outputs": [
    {
     "name": "stdout",
     "output_type": "stream",
     "text": [
      "Loading existing synapses...\n",
      "31250/31250 [==============================] - 16s 490us/step - loss: 3.6028e-04 - accuracy: 0.9997\n",
      "Done, [0.00036027992609888315, 0.9996529817581177]\n"
     ]
    }
   ],
   "source": [
    "if os.path.isfile(\"smart_duckling.h5\"):\n",
    "    print(\"Loading existing synapses...\")\n",
    "    model.load_weights(\"smart_duckling.h5\")\n",
    "else:\n",
    "    print(\"Training the duckling...\")\n",
    "    model.fit(\n",
    "        XY, Z,\n",
    "        epochs=5000,\n",
    "        batch_size=50,\n",
    "        use_multiprocessing=True,\n",
    "        verbose=False\n",
    "    )\n",
    "    model.save(\"smart_duckling.h5\")\n",
    "\n",
    "print(\"Done,\", model.evaluate(XY, Z))"
   ]
  },
  {
   "cell_type": "markdown",
   "metadata": {},
   "source": [
    "Ну и теперь посмотрим, как оно научилось ограничивать квадрат."
   ]
  },
  {
   "cell_type": "code",
   "execution_count": 5,
   "metadata": {
    "tags": []
   },
   "outputs": [
    {
     "name": "stdout",
     "output_type": "stream",
     "text": [
      "79/79 [==============================] - 0s 449us/step\n"
     ]
    },
    {
     "data": {
      "image/png": "[encoded data removed]",
      "text/plain": [
       "<Figure size 640x480 with 1 Axes>"
      ]
     },
     "metadata": {},
     "output_type": "display_data"
    }
   ],
   "source": [
    "%matplotlib inline\n",
    "\n",
    "import matplotlib.pyplot as plt\n",
    "\n",
    "plt.axis('equal')\n",
    "\n",
    "c = np.linspace(-2,2,50)\n",
    "\n",
    "# https://stackoverflow.com/a/11144716/539470 =)\n",
    "XY = np.transpose([np.tile(c, len(c)), np.repeat(c, len(c))])\n",
    "\n",
    "Z = model.predict(XY)\n",
    "\n",
    "for (x, y), z in zip(XY, Z):\n",
    "    plt.scatter(x, y, c='red' if z[0] >= 0.5 else 'green')\n",
    "\n",
    "plt.show()"
   ]
  },
  {
   "cell_type": "code",
   "execution_count": 6,
   "metadata": {
    "tags": []
   },
   "outputs": [
    {
     "data": {
      "image/png": "[encoded data removed]",
      "text/plain": [
       "<Figure size 640x480 with 1 Axes>"
      ]
     },
     "metadata": {},
     "output_type": "display_data"
    }
   ],
   "source": [
    "def saturate(v):\n",
    "    return min(1, max(0, v))\n",
    "\n",
    "plt.axis('equal')\n",
    "\n",
    "for (x, y), z in zip(XY, Z):\n",
    "    plt.scatter(x, y, color=[(1, 1-saturate(z[0]), 1-saturate(z[0]))])\n",
    "\n",
    "plt.show()"
   ]
  },
  {
   "cell_type": "code",
   "execution_count": null,
   "metadata": {},
   "outputs": [],
   "source": []
  }
 ],
 "metadata": {
  "anaconda-cloud": {},
  "kernelspec": {
   "display_name": "Python 3 (ipykernel)",
   "language": "python",
   "name": "python3"
  },
  "language_info": {
   "codemirror_mode": {
    "name": "ipython",
    "version": 3
   },
   "file_extension": ".py",
   "mimetype": "text/x-python",
   "name": "python",
   "nbconvert_exporter": "python",
   "pygments_lexer": "ipython3",
   "version": "3.11.2"
  }
 },
 "nbformat": 4,
 "nbformat_minor": 4
}
