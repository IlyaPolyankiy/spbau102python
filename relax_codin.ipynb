{
 "cells": [
  {
   "cell_type": "markdown",
   "id": "de8bf1d1-35d9-4ed1-b0ca-1f91ccf86a59",
   "metadata": {},
   "source": [
    "## Алгоритм Евклида\n",
    "\n",
    "Используется для нахождения наибольшего общего делителя двух чисел.  \n"
   ]
  },
  {
   "cell_type": "code",
   "execution_count": null,
   "id": "802f1e53-dd7b-4c2e-ba73-6ef67eba29ce",
   "metadata": {},
   "outputs": [],
   "source": [
    "def gcd(a, b):\n",
    "    if b == 0:\n",
    "        return a\n",
    "    else:\n",
    "        return gcd(b, a % b)"
   ]
  },
  {
   "cell_type": "markdown",
   "id": "d05f16f5-3783-42ab-bd20-7661aa0ae1c4",
   "metadata": {},
   "source": [
    "### Проверка:"
   ]
  },
  {
   "cell_type": "code",
   "execution_count": null,
   "id": "4b42c1d6-ca27-4fe4-bdfa-36280533c34e",
   "metadata": {
    "tags": []
   },
   "outputs": [],
   "source": [
    "a = int(input(\"Введите первое число: \"))\n",
    "b = int(input(\"Введите второе число: \"))\n",
    "print(f\"Наибольший общиий делитей {a} и {b} равен {gcd(a,b)}\")"
   ]
  },
  {
   "cell_type": "markdown",
   "id": "678ad0c5-c869-4abc-8112-5d34710e86fe",
   "metadata": {
    "jp-MarkdownHeadingCollapsed": true
   },
   "source": [
    "## Расширенный алгоритм Эвклида\n",
    "Помимо НОД(a,b) находит коэффициенты x и y уравнения a*x + b*y = НОД(a,b)"
   ]
  },
  {
   "cell_type": "code",
   "execution_count": null,
   "id": "7562b722-0bb3-4587-99e5-917ec599354c",
   "metadata": {},
   "outputs": [],
   "source": [
    "def egcd(a, b):\n",
    "    if a == 0:\n",
    "        return (b, 0, 1)\n",
    "    else:\n",
    "        d, x, y = egcd(b % a, a)\n",
    "    return (d, y - (b // a) * x, x)"
   ]
  },
  {
   "cell_type": "markdown",
   "id": "44476831-98b0-430e-b2de-5dd203810607",
   "metadata": {},
   "source": [
    "### Проверка:"
   ]
  },
  {
   "cell_type": "code",
   "execution_count": null,
   "id": "0a01f99e-e287-491d-a7ec-67ea422b3f37",
   "metadata": {},
   "outputs": [],
   "source": [
    "a = int(input(\"Введите первое число: \"))\n",
    "b = int(input(\"Введите второе число: \"))\n",
    "d, x, y = egcd(a, b)\n",
    "print(f\"Наибольший общиий делитей {a} и {b} равен {d}\")\n",
    "print(f\"{a} * {x} + {b} * {y} = {d} ({a * x + b * y == d})\")"
   ]
  },
  {
   "cell_type": "markdown",
   "id": "54070dad-5352-4b4d-b45a-c31ab63ca903",
   "metadata": {},
   "source": [
    "## Проверка на простоту. Тест Соловея — Штрассена\n",
    "Если число простое, то алгоритм выдаст провильный ответ.  \n",
    "Если число составно, то алгоритм выдаст неправильный ответ с вероятностью $\\frac{1} {2^k}$, где k - число, равно количеству прохождений теста (количество итераций)"
   ]
  },
  {
   "cell_type": "code",
   "execution_count": null,
   "id": "60c20c76-bf4f-4570-8d54-b123ed7731fd",
   "metadata": {},
   "outputs": [],
   "source": [
    "import random\n",
    "\n",
    "def jacobi(a, n):  # Сначала находим символ Якоби, необходимый для проверки\n",
    "    a = a % n\n",
    "    result = 1\n",
    "    while a != 0:\n",
    "        while a % 2 == 0:\n",
    "            a /= 2\n",
    "            n_mod_8 = n % 8\n",
    "            if n_mod_8 in (3, 5):\n",
    "                result = -result\n",
    "        a, n = n, a\n",
    "        if a % 4 == 3 and n % 4 == 3:\n",
    "            result = -result\n",
    "        a %= n\n",
    "    if n == 1:\n",
    "        return result\n",
    "    else:\n",
    "        return 0\n",
    "        \n",
    "def is_prime(n, iter = 30):\n",
    "    for i in range(iter):\n",
    "        if n % 2 == 1:\n",
    "            a = random.randint(1,n-1)\n",
    "            e = pow(a, (n-1)//2, n)\n",
    "            d = jacobi(a, n) % n\n",
    "            if gcd(a, n) > 1 or e != d:\n",
    "                return f\"Число {n} составное\"\n",
    "        else:\n",
    "            return f\"Число {n} составное\"\n",
    "    return f\"Число {n} простое\""
   ]
  },
  {
   "cell_type": "markdown",
   "id": "08ad3955-dc8f-4701-8a25-64f993d2304d",
   "metadata": {},
   "source": [
    "### Проверка:"
   ]
  },
  {
   "cell_type": "code",
   "execution_count": null,
   "id": "c8c3c9c0-0a57-4a65-acc0-a7f18addbd53",
   "metadata": {},
   "outputs": [],
   "source": [
    "print(is_prime(6601))  # проверка на числе Кармайкла"
   ]
  },
  {
   "cell_type": "code",
   "execution_count": null,
   "id": "6b8c98f6-9c31-4761-960f-78a7ffd07200",
   "metadata": {},
   "outputs": [],
   "source": [
    "n = int(input(\"Введите число\"))\n",
    "print(is_prime(n, iter))"
   ]
  }
 ],
 "metadata": {
  "kernelspec": {
   "display_name": "Python 3 (ipykernel)",
   "language": "python",
   "name": "python3"
  },
  "language_info": {
   "codemirror_mode": {
    "name": "ipython",
    "version": 3
   },
   "file_extension": ".py",
   "mimetype": "text/x-python",
   "name": "python",
   "nbconvert_exporter": "python",
   "pygments_lexer": "ipython3",
   "version": "3.10.7"
  }
 },
 "nbformat": 4,
 "nbformat_minor": 5
}
