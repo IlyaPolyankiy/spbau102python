{
 "cells": [
  {
   "cell_type": "markdown",
   "id": "ded3089d-c685-4b5d-8ea0-125bd96c78a1",
   "metadata": {},
   "source": [
    "# Проверка шума данных ПЦР теста на соответствие с нормальным распределением с помощью критерия Колмогорова-Смирнова"
   ]
  },
  {
   "cell_type": "code",
   "execution_count": 88,
   "id": "edd7088d-a6af-4d33-99b5-00d9150fa72c",
   "metadata": {
    "tags": []
   },
   "outputs": [],
   "source": [
    "import numpy as np\n",
    "import pandas as pd\n",
    "from scipy import stats"
   ]
  },
  {
   "cell_type": "markdown",
   "id": "f496b6a2-eced-4878-82b9-71d27b740c1c",
   "metadata": {
    "tags": []
   },
   "source": [
    "Прочитаем данные"
   ]
  },
  {
   "cell_type": "code",
   "execution_count": 89,
   "id": "d69d8e5d-bc47-42c3-b38d-a4a12f5532bd",
   "metadata": {
    "tags": []
   },
   "outputs": [],
   "source": [
    "data = pd.read_csv('pcr_data.csv', delimiter=';', decimal=',')\n",
    "data.drop(data.columns[-1], axis=1, inplace=True)"
   ]
  },
  {
   "cell_type": "markdown",
   "id": "03ddf60e-9729-4d10-a494-782dd686a004",
   "metadata": {},
   "source": [
    "Выделим шум"
   ]
  },
  {
   "cell_type": "code",
   "execution_count": 90,
   "id": "42fc510a-d8ae-47c0-989e-778c8e517f4f",
   "metadata": {
    "tags": []
   },
   "outputs": [],
   "source": [
    "noise = np.array([num - data[col][3:16].mean() for col in data.columns for num in data[col][3:16]])"
   ]
  },
  {
   "cell_type": "code",
   "execution_count": 91,
   "id": "aefccf80-51bd-424c-ac92-fc821fe30f3b",
   "metadata": {
    "tags": []
   },
   "outputs": [
    {
     "data": {
      "text/plain": [
       "array([[<Axes: title={'center': '0'}>]], dtype=object)"
      ]
     },
     "execution_count": 91,
     "metadata": {},
     "output_type": "execute_result"
    },
    {
     "data": {
      "image/png": "[encoded data removed]",
      "text/plain": [
       "<Figure size 640x480 with 1 Axes>"
      ]
     },
     "metadata": {},
     "output_type": "display_data"
    }
   ],
   "source": [
    "pd.DataFrame(noise).hist(bins = len(noise)//10)"
   ]
  },
  {
   "cell_type": "code",
   "execution_count": 92,
   "id": "d8afa034-1755-470d-b7c3-2b6dba4feaf3",
   "metadata": {
    "tags": []
   },
   "outputs": [
    {
     "data": {
      "text/plain": [
       "KstestResult(statistic=0.039141103273921285, pvalue=0.5338467949854138, statistic_location=6.711538461538453, statistic_sign=1)"
      ]
     },
     "execution_count": 92,
     "metadata": {},
     "output_type": "execute_result"
    }
   ],
   "source": [
    "stats.kstest(noise, 'norm', args=(0, noise.std()))"
   ]
  },
  {
   "cell_type": "markdown",
   "id": "81b09a3d-ea19-408a-aebb-b85e1341d5c5",
   "metadata": {
    "tags": []
   },
   "source": [
    "pvalue значительно больше нуля (>0.05), гипотеза о нормальном распределении шума подтверждена"
   ]
  }
 ],
 "metadata": {
  "kernelspec": {
   "display_name": "Python 3 (ipykernel)",
   "language": "python",
   "name": "python3"
  },
  "language_info": {
   "codemirror_mode": {
    "name": "ipython",
    "version": 3
   },
   "file_extension": ".py",
   "mimetype": "text/x-python",
   "name": "python",
   "nbconvert_exporter": "python",
   "pygments_lexer": "ipython3",
   "version": "3.11.2"
  }
 },
 "nbformat": 4,
 "nbformat_minor": 5
}
